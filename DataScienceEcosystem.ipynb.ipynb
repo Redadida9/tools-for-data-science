{
 "cells": [
  {
   "cell_type": "markdown",
   "id": "13c6ed64-f60c-4856-8ae7-1d82300a5823",
   "metadata": {},
   "source": [
    "# Data Science Tools and Ecosystem"
   ]
  },
  {
   "cell_type": "markdown",
   "id": "416e9d78-3b55-44b2-8d48-60dd743bdf28",
   "metadata": {},
   "source": [
    "In this notebook, Data Science Tools and Ecosystem are summarized."
   ]
  },
  {
   "cell_type": "markdown",
   "id": "00badefe-169b-4911-a5eb-363cdba90acc",
   "metadata": {},
   "source": [
    "**Objectives:**\n",
    "   \n",
    "* List popular languages for Data Science\n",
    "* List commonly used libraries in Data Science\n",
    "* Create tables of open-source Data Science tools\n",
    "* Demonstrate simple arithmetic expressions in Python\n",
    "* Convert units (minutes to hours) using Python code"
   ]
  },
  {
   "cell_type": "markdown",
   "id": "786e0efe-c80d-4876-8787-1a7d4e183caa",
   "metadata": {},
   "source": [
    "Some of the popular languages that Data Scientists use are:\n",
    "1. Python\n",
    "2. R\n",
    "3. SQL\n",
    "4. Julia"
   ]
  },
  {
   "cell_type": "markdown",
   "id": "15432701-f4b3-421f-a596-18a0f2433f7c",
   "metadata": {},
   "source": [
    "Some of the commonly used libraries used by Data Scientists include:\n",
    "1. Pandas\n",
    "2. NumPy\n",
    "3. Matplotlib\n",
    "4. Scikit-learn"
   ]
  },
  {
   "cell_type": "markdown",
   "id": "7de1faaa-dab1-4d33-835b-de771b9cf7b5",
   "metadata": {},
   "source": [
    "| Data Science Tools |\n",
    "|--------------------|\n",
    "| Jupyter Notebook   |\n",
    "| RStudio            |\n",
    "| Apache Zeppelin    |"
   ]
  },
  {
   "cell_type": "markdown",
   "id": "b9496d87-7d35-4eaf-9480-b3f928ebeaea",
   "metadata": {},
   "source": [
    "### Below are a few examples of evaluating arithmetic expressions in Python"
   ]
  },
  {
   "cell_type": "code",
   "execution_count": 1,
   "id": "4245d4e3-84a9-4b8f-9d0b-0e85890e12bb",
   "metadata": {},
   "outputs": [
    {
     "data": {
      "text/plain": [
       "17"
      ]
     },
     "execution_count": 1,
     "metadata": {},
     "output_type": "execute_result"
    }
   ],
   "source": [
    "#This a simple arithmetic expression to mutiply then add integers.\n",
    "(3*4)+5"
   ]
  },
  {
   "cell_type": "code",
   "execution_count": 2,
   "id": "745a1bf6-3cb3-47b5-bfb4-02f31707270f",
   "metadata": {},
   "outputs": [
    {
     "data": {
      "text/plain": [
       "3.3333333333333335"
      ]
     },
     "execution_count": 2,
     "metadata": {},
     "output_type": "execute_result"
    }
   ],
   "source": [
    "#This will convert 200 minutes to hours by diving by 60\n",
    "200/60"
   ]
  },
  {
   "cell_type": "markdown",
   "id": "edc918f7-fd11-48f9-86a8-c87e9616e9d0",
   "metadata": {},
   "source": [
    "## Author\n",
    "Rida Bakloul"
   ]
  },
  {
   "cell_type": "code",
   "execution_count": null,
   "id": "10f888f6-a7a2-4d17-b004-30b523b3829a",
   "metadata": {},
   "outputs": [],
   "source": []
  }
 ],
 "metadata": {
  "kernelspec": {
   "display_name": "Python 3 (ipykernel)",
   "language": "python",
   "name": "python3"
  },
  "language_info": {
   "codemirror_mode": {
    "name": "ipython",
    "version": 3
   },
   "file_extension": ".py",
   "mimetype": "text/x-python",
   "name": "python",
   "nbconvert_exporter": "python",
   "pygments_lexer": "ipython3",
   "version": "3.13.5"
  }
 },
 "nbformat": 4,
 "nbformat_minor": 5
}
